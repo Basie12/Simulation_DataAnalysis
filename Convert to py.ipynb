{
 "cells": [
  {
   "cell_type": "code",
   "execution_count": 4,
   "metadata": {},
   "outputs": [],
   "source": [
    "# Convert the jupyter notebook to python script\n",
    "\n",
    "import nbformat as nbf\n",
    "from nbconvert.exporters import PythonExporter\n",
    "from nbconvert.preprocessors import TagRemovePreprocessor\n",
    "\n",
    "with open(\"New_Data_Visualize.ipynb\", 'r', encoding='utf-8') as f:\n",
    "    the_notebook = nbf.read(f, as_version = 4)\n",
    "\n",
    "tag_processor = TagRemovePreprocessor()\n",
    "\n",
    "tag_processor.remove_cell_tags = (\"remove\",)\n",
    "\n",
    "python_export = PythonExporter()\n",
    "\n",
    "python_export.register_preprocessor(tag_processor, enabled= True)\n",
    "\n",
    "the_python_script, meta = python_export.from_notebook_node(the_notebook)\n",
    "\n",
    "with open(\"Data_Visaulize_python_script.py\", 'w', encoding='utf-8') as f:\n",
    "    f.writelines(the_python_script)\n",
    "\n"
   ]
  },
  {
   "cell_type": "code",
   "execution_count": null,
   "metadata": {},
   "outputs": [],
   "source": []
  }
 ],
 "metadata": {
  "kernelspec": {
   "display_name": "Python 3",
   "language": "python",
   "name": "python3"
  },
  "language_info": {
   "codemirror_mode": {
    "name": "ipython",
    "version": 3
   },
   "file_extension": ".py",
   "mimetype": "text/x-python",
   "name": "python",
   "nbconvert_exporter": "python",
   "pygments_lexer": "ipython3",
   "version": "3.8.5"
  }
 },
 "nbformat": 4,
 "nbformat_minor": 4
}
